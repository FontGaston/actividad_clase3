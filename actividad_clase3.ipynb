{
 "cells": [
  {
   "cell_type": "markdown",
   "metadata": {},
   "source": [
    "## Actividad de Clase 3: Manipulación de Repositorios y Archivos en GitHub\n",
    "### Se realizaran ejercicios de Datos simples y de Datos Complejos."
   ]
  },
  {
   "cell_type": "markdown",
   "metadata": {},
   "source": [
    "# Datos Simples\n",
    "### 1. Manipulación de Listas y Métodos:\n",
    "### Crear una lista inicial de números enteros "
   ]
  },
  {
   "cell_type": "code",
   "execution_count": 17,
   "metadata": {},
   "outputs": [],
   "source": [
    "enteros = [10, 20, 50, 30, 40]"
   ]
  },
  {
   "cell_type": "markdown",
   "metadata": {},
   "source": [
    "### Utilizar el método .append() para agregar un número al final de la lista"
   ]
  },
  {
   "cell_type": "code",
   "execution_count": 18,
   "metadata": {},
   "outputs": [
    {
     "name": "stdout",
     "output_type": "stream",
     "text": [
      "Lista luego de agregar un número al final: [10, 20, 50, 30, 40, 60]\n"
     ]
    }
   ],
   "source": [
    "enteros.append(60)\n",
    "print(\"Lista luego de agregar un número al final:\", enteros)"
   ]
  },
  {
   "cell_type": "markdown",
   "metadata": {},
   "source": [
    "### Utilizar el método .extend() para agregar múltiples elementos a la lista"
   ]
  },
  {
   "cell_type": "code",
   "execution_count": 19,
   "metadata": {},
   "outputs": [
    {
     "name": "stdout",
     "output_type": "stream",
     "text": [
      "Lista luego de agregar múltiples elementos: [10, 20, 50, 30, 40, 60, 70, 80, 90]\n"
     ]
    }
   ],
   "source": [
    "enteros.extend([70, 80, 90])\n",
    "print(\"Lista luego de agregar múltiples elementos:\", enteros)"
   ]
  },
  {
   "cell_type": "markdown",
   "metadata": {},
   "source": [
    "### Utiliza el método .insert() para insertar un número en una posición específica de la lista."
   ]
  },
  {
   "cell_type": "code",
   "execution_count": 20,
   "metadata": {},
   "outputs": [
    {
     "name": "stdout",
     "output_type": "stream",
     "text": [
      "Lista luego de insertar un número en una posición específica: [10, 20, 15, 50, 30, 40, 60, 70, 80, 90]\n"
     ]
    }
   ],
   "source": [
    "enteros.insert(2, 15) \n",
    "print(\"Lista luego de insertar un número en una posición específica:\", enteros)"
   ]
  },
  {
   "cell_type": "markdown",
   "metadata": {},
   "source": [
    "### Muestra cómo utilizar el método .sort() para ordenar la lista de números de forma ascendente.\n",
    "\n"
   ]
  },
  {
   "cell_type": "code",
   "execution_count": 21,
   "metadata": {},
   "outputs": [
    {
     "name": "stdout",
     "output_type": "stream",
     "text": [
      "Lista ordenada de forma ascendente: [10, 15, 20, 30, 40, 50, 60, 70, 80, 90]\n"
     ]
    }
   ],
   "source": [
    "enteros.sort()\n",
    "print(\"Lista ordenada de forma ascendente:\", enteros)"
   ]
  },
  {
   "cell_type": "markdown",
   "metadata": {},
   "source": [
    "### 2. Manipulación de Diccionarios y Métodos:"
   ]
  },
  {
   "cell_type": "markdown",
   "metadata": {},
   "source": [
    "### Crea un diccionario con información de productos (nombre del producto, precio, cantidad en stock)."
   ]
  },
  {
   "cell_type": "code",
   "execution_count": 34,
   "metadata": {},
   "outputs": [],
   "source": [
    "productos = {\n",
    "    \"producto1\": {\"HyperX\": \"Mouse\", \"precio\": 20, \"stock\": 100},\n",
    "    \"producto2\": {\"Razer\": \"Teclado\", \"precio\": 30, \"stock\": 80},\n",
    "    \"producto3\": {\"WB\": \"HDD\", \"precio\": 50, \"stock\": 50},\n",
    "    \"producto4\": {\"Genius\": \"Mouse\", \"precio\": 15, \"stock\": 200}\n",
    "}"
   ]
  },
  {
   "cell_type": "markdown",
   "metadata": {},
   "source": [
    "### Utiliza el método .keys() para obtener una lista de las llaves (nombres de productos) en el diccionario.    "
   ]
  },
  {
   "cell_type": "code",
   "execution_count": 23,
   "metadata": {},
   "outputs": [
    {
     "name": "stdout",
     "output_type": "stream",
     "text": [
      "Nombres de productos: ['producto1', 'producto2', 'producto3']\n"
     ]
    }
   ],
   "source": [
    "nombres_productos = list(productos.keys())\n",
    "print(\"Nombres de productos:\", nombres_productos)"
   ]
  },
  {
   "cell_type": "markdown",
   "metadata": {},
   "source": [
    "### Utiliza el método .values() para obtener una lista de los valores (precios y cantidades) en el diccionario."
   ]
  },
  {
   "cell_type": "code",
   "execution_count": 33,
   "metadata": {},
   "outputs": [
    {
     "name": "stdout",
     "output_type": "stream",
     "text": [
      "Valores de productos: [{'HyperX': 'Mouse', 'precio': 20, 'stock': 100}, {'Razer': 'Teclado', 'precio': 30, 'stock': 80}, {'WB': 'HDD', 'precio': 50, 'stock': 50}, {'Genius': 'Mouse', 'precio': 15, 'stock': 200}]\n"
     ]
    }
   ],
   "source": [
    "valores_productos = list(productos.values())\n",
    "print(\"Valores de productos:\", valores_productos)"
   ]
  },
  {
   "cell_type": "markdown",
   "metadata": {},
   "source": [
    "### Utiliza el método .items() para obtener una lista de tuplas con pares clave-valor del diccionario."
   ]
  },
  {
   "cell_type": "code",
   "execution_count": 32,
   "metadata": {},
   "outputs": [
    {
     "name": "stdout",
     "output_type": "stream",
     "text": [
      "Items de productos: [('producto1', {'HyperX': 'Mouse', 'precio': 20, 'stock': 100}), ('producto2', {'Razer': 'Teclado', 'precio': 30, 'stock': 80}), ('producto3', {'WB': 'HDD', 'precio': 50, 'stock': 50}), ('producto4', {'Genius': 'Mouse', 'precio': 15, 'stock': 200})]\n"
     ]
    }
   ],
   "source": [
    "items_productos = list(productos.items())\n",
    "print(\"Items de productos:\", items_productos)"
   ]
  },
  {
   "cell_type": "markdown",
   "metadata": {},
   "source": [
    "### Muestra cómo utilizar el método .get() para obtener el precio de un producto específico del diccionario."
   ]
  },
  {
   "cell_type": "code",
   "execution_count": 29,
   "metadata": {},
   "outputs": [
    {
     "name": "stdout",
     "output_type": "stream",
     "text": [
      "El precio del producto2 es: 30\n"
     ]
    }
   ],
   "source": [
    "nombre_producto = \"producto2\"\n",
    "precio_producto = productos.get(nombre_producto, {}).get(\"precio\")\n",
    "print(f\"El precio del {nombre_producto} es: {precio_producto}\")"
   ]
  },
  {
   "cell_type": "markdown",
   "metadata": {},
   "source": [
    "## 2. Datos Complejos"
   ]
  },
  {
   "cell_type": "markdown",
   "metadata": {},
   "source": [
    "### Lista de diccionarios de libros:"
   ]
  },
  {
   "cell_type": "code",
   "execution_count": null,
   "metadata": {},
   "outputs": [],
   "source": [
    "libros = [\n",
    "    {\"titulo\": \"El señor de los anillos\", \"autor\": \"J.R.R. Tolkien\", \"año_publicacion\": 1954},\n",
    "    {\"titulo\": \"Cien años de soledad\", \"autor\": \"Gabriel García Márquez\", \"año_publicacion\": 1967},\n",
    "    {\"titulo\": \"1984\", \"autor\": \"George Orwell\", \"año_publicacion\": 1949},\n",
    "    {\"titulo\": \"Harry Potter y la piedra filosofal\", \"autor\": \"J.K. Rowling\", \"año_publicacion\": 1997}\n",
    "]\n"
   ]
  },
  {
   "cell_type": "markdown",
   "metadata": {},
   "source": [
    "### Diccionario con listas como valores:"
   ]
  },
  {
   "cell_type": "code",
   "execution_count": 35,
   "metadata": {},
   "outputs": [],
   "source": [
    "# Diccionario que contiene listas como valores\n",
    "estudiantes = {\n",
    "    \"Axel\": [\"Programacion II\", \"Ciencia de Datos\", \"Ingles II\"],\n",
    "    \"Ana\": [\"Programacion II\", \"Base de Datos\", \"Probabilidad y Estadistica\"],\n",
    "    \"Matias\": [\"Practica I\", \"Gestion de Proyectos\", \"Programacion II\"]\n",
    "}\n"
   ]
  },
  {
   "cell_type": "markdown",
   "metadata": {},
   "source": [
    "### Modificar un valor en una lista dentro de un diccionario:"
   ]
  },
  {
   "cell_type": "code",
   "execution_count": 36,
   "metadata": {},
   "outputs": [
    {
     "name": "stdout",
     "output_type": "stream",
     "text": [
      "['Programacion II', 'Base de Datos', 'Ingles I']\n"
     ]
    }
   ],
   "source": [
    "estudiantes[\"Ana\"][2] = \"Ingles I\"\n",
    "print(estudiantes[\"Ana\"])  \n"
   ]
  },
  {
   "cell_type": "markdown",
   "metadata": {},
   "source": [
    "### Modificar una lista dentro de un diccionario:\n"
   ]
  },
  {
   "cell_type": "code",
   "execution_count": 37,
   "metadata": {},
   "outputs": [
    {
     "name": "stdout",
     "output_type": "stream",
     "text": [
      "['Practica I', 'Ingles II', 'Programacion II']\n"
     ]
    }
   ],
   "source": [
    "estudiantes[\"Matias\"] = [\"Practica I\", \"Ingles II\", \"Programacion II\"]\n",
    "print(estudiantes[\"Matias\"])  \n"
   ]
  }
 ],
 "metadata": {
  "kernelspec": {
   "display_name": "Python 3",
   "language": "python",
   "name": "python3"
  },
  "language_info": {
   "codemirror_mode": {
    "name": "ipython",
    "version": 3
   },
   "file_extension": ".py",
   "mimetype": "text/x-python",
   "name": "python",
   "nbconvert_exporter": "python",
   "pygments_lexer": "ipython3",
   "version": "3.11.9"
  }
 },
 "nbformat": 4,
 "nbformat_minor": 2
}
